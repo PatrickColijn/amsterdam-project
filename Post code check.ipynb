{
 "cells": [
  {
   "cell_type": "code",
   "execution_count": 40,
   "metadata": {},
   "outputs": [
    {
     "name": "stdout",
     "output_type": "stream",
     "text": [
      "Address: Sikkelstraat House Number: 21 Postal Code: 1097ZC\n"
     ]
    }
   ],
   "source": [
    "import pandas as pd\n",
    "import re\n",
    "import requests\n",
    "containers = pd.read_csv('data/containers.csv')\n",
    "unique = (set(containers['address']))\n",
    "url = \"https://bwnr.nl/postcode.php\" \n",
    "# ?st=Reimerswaalstraat&hn=22&pl=Amsterdam&tg=data&ac=adres2pc\"\n",
    "\n",
    "def get_postal_code(street, house_number):\n",
    "    data = requests.get(url, params={'st': street,'hn': house_number, 'pl': 'Amsterdam','tg': 'data','ac':'adres2pc'})\n",
    "    postal_code = data.text.split(';')[0]\n",
    "    return postal_code\n",
    "\n",
    "for c in unique:\n",
    "    clean = re.sub(', Amsterdam','', c)\n",
    "    h_n = re.findall('\\d+',clean)[0]\n",
    "    address = re.findall('\\D+',clean)[0].strip()\n",
    "    postal_code = get_postal_code(address, h_n)\n",
    "    print(\"Address:\", address, \"House Number:\", h_n, \"Postal Code:\", postal_code)\n",
    "    break"
   ]
  },
  {
   "cell_type": "code",
   "execution_count": null,
   "metadata": {},
   "outputs": [],
   "source": []
  }
 ],
 "metadata": {
  "kernelspec": {
   "display_name": "Python 3",
   "language": "python",
   "name": "python3"
  },
  "language_info": {
   "codemirror_mode": {
    "name": "ipython",
    "version": 3
   },
   "file_extension": ".py",
   "mimetype": "text/x-python",
   "name": "python",
   "nbconvert_exporter": "python",
   "pygments_lexer": "ipython3",
   "version": "3.6.9"
  }
 },
 "nbformat": 4,
 "nbformat_minor": 2
}
